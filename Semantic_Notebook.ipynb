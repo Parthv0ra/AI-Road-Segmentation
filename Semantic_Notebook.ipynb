{
  "nbformat": 4,
  "nbformat_minor": 0,
  "metadata": {
    "colab": {
      "name": "Semantic Notebook.ipynb",
      "provenance": [],
      "collapsed_sections": [],
      "authorship_tag": "ABX9TyOm16NzHwtd5VA07jxrvbEF",
      "include_colab_link": true
    },
    "kernelspec": {
      "display_name": "Python 3",
      "name": "python3"
    },
    "language_info": {
      "name": "python"
    }
  },
  "cells": [
    {
      "cell_type": "markdown",
      "metadata": {
        "id": "view-in-github",
        "colab_type": "text"
      },
      "source": [
        "<a href=\"https://colab.research.google.com/github/PatelVatsalB21/AI-Road-Segmentation/blob/test/Semantic_Notebook.ipynb\" target=\"_parent\"><img src=\"https://colab.research.google.com/assets/colab-badge.svg\" alt=\"Open In Colab\"/></a>"
      ]
    },
    {
      "cell_type": "code",
      "metadata": {
        "id": "ESz6GFeAfRNF"
      },
      "source": [
        "import numpy as np\n",
        "\n",
        "\n",
        "def generate_mask(mask_img):\n",
        "    new_mask_img = np.zeros((mask_img.shape[0], mask_img.shape[1], 13))\n",
        "\n",
        "    for j in range(13):\n",
        "        for k in range(mask_img.shape[0]):\n",
        "            for l in range(mask_img.shape[1]):\n",
        "                if mask_img[k, l, 2] == j:\n",
        "                    new_mask_img[k, l, j] = j\n",
        "    return new_mask_img\n"
      ],
      "execution_count": null,
      "outputs": []
    },
    {
      "cell_type": "code",
      "metadata": {
        "id": "MWO_yAmHfXSe"
      },
      "source": [
        "import tensorflow as tf\n",
        "import os\n",
        "import numpy as np\n",
        "import cv2\n",
        "import matplotlib.pyplot as plt\n",
        "from sklearn.model_selection import train_test_split\n",
        "from mask_generator import generate_mask\n",
        "\n",
        "np.random.seed(42)\n",
        "tf.random.set_seed(42)\n",
        "H = 256\n",
        "W = 256\n",
        "\n",
        "\n",
        "def process_data():\n",
        "    image_path = \"../data/CameraRGB/\"\n",
        "    mask_path = \"../data/CameraSeg/\"\n",
        "    image_list = os.listdir(image_path)\n",
        "    mask_list = os.listdir(mask_path)\n",
        "    image_list = [image_path + i for i in image_list]\n",
        "    mask_list = [mask_path + i for i in mask_list]\n",
        "\n",
        "    new_masks = []\n",
        "    for img in mask_list:\n",
        "        m_img = cv2.imread(img)\n",
        "        m_img = generate_mask(m_img)\n",
        "        new_masks.append(m_img)\n",
        "\n",
        "    cv2.imread(new_masks[0])\n",
        "    plt.imshow(\"plt\", new_masks[0])\n",
        "    return image_list, new_masks\n",
        "\n",
        "\n",
        "def load_data():\n",
        "    train_x, train_y = process_data()\n",
        "    test_x, test_y = process_data()\n",
        "\n",
        "    train_x, valid_x = train_test_split(train_x, test_size=0.3, random_state=42)\n",
        "    train_y, valid_y = train_test_split(train_y, test_size=0.3, random_state=42)\n",
        "\n",
        "    return (train_x, train_y), (valid_x, valid_y), (test_x, test_y)\n",
        "\n",
        "\n",
        "def read_image(x):\n",
        "    x = cv2.imread(x, cv2.IMREAD_COLOR)\n",
        "    x = cv2.resize(x, (W, H))\n",
        "    x = x / 255.0\n",
        "    x = x.astype(np.float32)\n",
        "    return x\n",
        "\n",
        "\n",
        "def read_mask(x):\n",
        "    x = cv2.imread(x, cv2.IMREAD_GRAYSCALE)\n",
        "    x = cv2.resize(x, (W, H))\n",
        "    x = x - 1\n",
        "    x = x.astype(np.int32)\n",
        "    return x\n",
        "\n",
        "\n",
        "def tf_dataset(x, y, batch=8):\n",
        "    dataset = tf.data.Dataset.from_tensor_slices((x, y))\n",
        "    dataset = dataset.shuffle(buffer_size=500)\n",
        "    dataset = dataset.map(preprocess)\n",
        "    dataset = dataset.batch(batch)\n",
        "    dataset = dataset.prefetch(2)\n",
        "    return dataset\n",
        "\n",
        "\n",
        "def preprocess(x, y):\n",
        "    def f(x, y):\n",
        "        x = x.decode()\n",
        "        y = y.decode()\n",
        "\n",
        "        image = read_image(x)\n",
        "        mask = read_mask(y)\n",
        "\n",
        "        return image, mask\n",
        "\n",
        "    image, mask = tf.numpy_function(f, [x, y], [tf.float32, tf.int32])\n",
        "    mask = tf.one_hot(mask, 3, dtype=tf.int32)\n",
        "    image.set_shape([H, W, 3])\n",
        "    mask.set_shape([H, W, 3])\n",
        "\n",
        "    return image, mask\n",
        "\n",
        "\n",
        "if __name__ == \"__main__\":\n",
        "    (train_x, train_y), (valid_x, valid_y), (test_x, test_y) = load_data()\n",
        "    print(f\"Dataset: Train: {len(train_x)} - Valid: {len(valid_x)} - Test: {len(test_x)}\")\n",
        "\n",
        "    dataset = tf_dataset(train_x, train_y, batch=8)\n",
        "    print(len(dataset))\n",
        "    for x, y in dataset:\n",
        "        print(x[0])\n",
        "        print(y[0])"
      ],
      "execution_count": null,
      "outputs": []
    }
  ]
}